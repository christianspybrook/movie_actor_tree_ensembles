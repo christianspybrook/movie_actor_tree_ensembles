{
 "cells": [
  {
   "cell_type": "code",
   "execution_count": 1,
   "metadata": {},
   "outputs": [
    {
     "data": {
      "text/html": [
       "<style>.container { width: 930px !important; }</style>"
      ],
      "text/plain": [
       "<IPython.core.display.HTML object>"
      ]
     },
     "metadata": {},
     "output_type": "display_data"
    }
   ],
   "source": [
    "# set cell display width\n",
    "from IPython.display import display, HTML\n",
    "display(HTML('<style>.container { width: 930px !important; }</style>'))"
   ]
  },
  {
   "cell_type": "code",
   "execution_count": 2,
   "metadata": {},
   "outputs": [],
   "source": [
    "# import ML tools\n",
    "import pandas as pd\n",
    "import numpy as np\n",
    "import xgboost as xgb\n",
    "from sklearn.model_selection import (train_test_split, cross_val_score, \n",
    "                                     GridSearchCV, cross_validate)\n",
    "from functools import partial\n",
    "import pickle\n",
    "from hyperopt import hp, fmin, tpe, STATUS_OK, Trials\n",
    "from hyperopt.pyll import scope as ho_scope\n",
    "from collections import defaultdict"
   ]
  },
  {
   "cell_type": "code",
   "execution_count": 3,
   "metadata": {},
   "outputs": [],
   "source": [
    "# import plotting tools\n",
    "import matplotlib.pyplot as plt\n",
    "import seaborn as sns\n",
    "from IPython.core.pylabtools import figsize\n",
    "# set grid size and style\n",
    "figsize(12, 4)\n",
    "sns.set_style('whitegrid')"
   ]
  },
  {
   "cell_type": "code",
   "execution_count": 4,
   "metadata": {},
   "outputs": [
    {
     "name": "stdout",
     "output_type": "stream",
     "text": [
      "Use \"mp.colors(<index>)\" as color attribute for Seaborn plots.\n",
      "This is your color palette...\n"
     ]
    },
    {
     "data": {
      "image/png": "[encoded data removed]",
      "text/plain": [
       "<Figure size 504x72 with 1 Axes>"
      ]
     },
     "metadata": {},
     "output_type": "display_data"
    }
   ],
   "source": [
    "# import custom palette\n",
    "import my_palette as mp"
   ]
  },
  {
   "cell_type": "code",
   "execution_count": 5,
   "metadata": {},
   "outputs": [],
   "source": [
    "# read in actor dataset\n",
    "actor_df = pd.read_json('../data_wrangling/capstone2_ref.json')"
   ]
  },
  {
   "cell_type": "code",
   "execution_count": 13,
   "metadata": {},
   "outputs": [
    {
     "data": {
      "text/html": [
       "<div>\n",
       "<style scoped>\n",
       "    .dataframe tbody tr th:only-of-type {\n",
       "        vertical-align: middle;\n",
       "    }\n",
       "\n",
       "    .dataframe tbody tr th {\n",
       "        vertical-align: top;\n",
       "    }\n",
       "\n",
       "    .dataframe thead th {\n",
       "        text-align: right;\n",
       "    }\n",
       "</style>\n",
       "<table border=\"1\" class=\"dataframe\">\n",
       "  <thead>\n",
       "    <tr style=\"text-align: right;\">\n",
       "      <th></th>\n",
       "      <th>person_id</th>\n",
       "      <th>name</th>\n",
       "      <th>movie_id</th>\n",
       "      <th>title</th>\n",
       "      <th>revenue</th>\n",
       "      <th>budget</th>\n",
       "      <th>profit</th>\n",
       "      <th>age</th>\n",
       "      <th>gender</th>\n",
       "      <th>order</th>\n",
       "      <th>...</th>\n",
       "      <th>fantasy</th>\n",
       "      <th>history</th>\n",
       "      <th>horror</th>\n",
       "      <th>music</th>\n",
       "      <th>mystery</th>\n",
       "      <th>romance</th>\n",
       "      <th>science_fiction</th>\n",
       "      <th>thriller</th>\n",
       "      <th>war</th>\n",
       "      <th>western</th>\n",
       "    </tr>\n",
       "  </thead>\n",
       "  <tbody>\n",
       "    <tr>\n",
       "      <th>0</th>\n",
       "      <td>2</td>\n",
       "      <td>Mark Hamill</td>\n",
       "      <td>16121</td>\n",
       "      <td>The Big Red One</td>\n",
       "      <td>2.273880e+07</td>\n",
       "      <td>1.419948e+07</td>\n",
       "      <td>8.539315e+06</td>\n",
       "      <td>28.674100</td>\n",
       "      <td>0</td>\n",
       "      <td>1</td>\n",
       "      <td>...</td>\n",
       "      <td>0</td>\n",
       "      <td>0</td>\n",
       "      <td>0</td>\n",
       "      <td>0</td>\n",
       "      <td>0</td>\n",
       "      <td>0</td>\n",
       "      <td>0</td>\n",
       "      <td>0</td>\n",
       "      <td>1</td>\n",
       "      <td>0</td>\n",
       "    </tr>\n",
       "    <tr>\n",
       "      <th>1</th>\n",
       "      <td>2</td>\n",
       "      <td>Mark Hamill</td>\n",
       "      <td>11</td>\n",
       "      <td>Star Wars</td>\n",
       "      <td>3.319102e+09</td>\n",
       "      <td>4.708566e+07</td>\n",
       "      <td>3.272016e+09</td>\n",
       "      <td>25.665140</td>\n",
       "      <td>0</td>\n",
       "      <td>0</td>\n",
       "      <td>...</td>\n",
       "      <td>0</td>\n",
       "      <td>0</td>\n",
       "      <td>0</td>\n",
       "      <td>0</td>\n",
       "      <td>0</td>\n",
       "      <td>0</td>\n",
       "      <td>1</td>\n",
       "      <td>0</td>\n",
       "      <td>0</td>\n",
       "      <td>0</td>\n",
       "    </tr>\n",
       "    <tr>\n",
       "      <th>2</th>\n",
       "      <td>2</td>\n",
       "      <td>Mark Hamill</td>\n",
       "      <td>14919</td>\n",
       "      <td>Batman: Mask of the Phantasm</td>\n",
       "      <td>9.944670e+06</td>\n",
       "      <td>1.062202e+07</td>\n",
       "      <td>-6.773465e+05</td>\n",
       "      <td>42.251381</td>\n",
       "      <td>0</td>\n",
       "      <td>1</td>\n",
       "      <td>...</td>\n",
       "      <td>0</td>\n",
       "      <td>0</td>\n",
       "      <td>0</td>\n",
       "      <td>0</td>\n",
       "      <td>1</td>\n",
       "      <td>0</td>\n",
       "      <td>0</td>\n",
       "      <td>1</td>\n",
       "      <td>0</td>\n",
       "      <td>0</td>\n",
       "    </tr>\n",
       "    <tr>\n",
       "      <th>3</th>\n",
       "      <td>2</td>\n",
       "      <td>Mark Hamill</td>\n",
       "      <td>1892</td>\n",
       "      <td>Return of the Jedi</td>\n",
       "      <td>1.490146e+09</td>\n",
       "      <td>8.417359e+07</td>\n",
       "      <td>1.405972e+09</td>\n",
       "      <td>31.663895</td>\n",
       "      <td>0</td>\n",
       "      <td>0</td>\n",
       "      <td>...</td>\n",
       "      <td>0</td>\n",
       "      <td>0</td>\n",
       "      <td>0</td>\n",
       "      <td>0</td>\n",
       "      <td>0</td>\n",
       "      <td>0</td>\n",
       "      <td>1</td>\n",
       "      <td>0</td>\n",
       "      <td>0</td>\n",
       "      <td>0</td>\n",
       "    </tr>\n",
       "    <tr>\n",
       "      <th>4</th>\n",
       "      <td>2</td>\n",
       "      <td>Mark Hamill</td>\n",
       "      <td>16220</td>\n",
       "      <td>Wizards</td>\n",
       "      <td>3.930685e+07</td>\n",
       "      <td>5.240914e+06</td>\n",
       "      <td>3.406594e+07</td>\n",
       "      <td>25.377660</td>\n",
       "      <td>0</td>\n",
       "      <td>4</td>\n",
       "      <td>...</td>\n",
       "      <td>1</td>\n",
       "      <td>0</td>\n",
       "      <td>0</td>\n",
       "      <td>0</td>\n",
       "      <td>0</td>\n",
       "      <td>0</td>\n",
       "      <td>1</td>\n",
       "      <td>0</td>\n",
       "      <td>0</td>\n",
       "      <td>0</td>\n",
       "    </tr>\n",
       "  </tbody>\n",
       "</table>\n",
       "<p>5 rows × 33 columns</p>\n",
       "</div>"
      ],
      "text/plain": [
       "   person_id         name  movie_id                         title  \\\n",
       "0          2  Mark Hamill     16121               The Big Red One   \n",
       "1          2  Mark Hamill        11                     Star Wars   \n",
       "2          2  Mark Hamill     14919  Batman: Mask of the Phantasm   \n",
       "3          2  Mark Hamill      1892            Return of the Jedi   \n",
       "4          2  Mark Hamill     16220                       Wizards   \n",
       "\n",
       "        revenue        budget        profit        age  gender  order  ...  \\\n",
       "0  2.273880e+07  1.419948e+07  8.539315e+06  28.674100       0      1  ...   \n",
       "1  3.319102e+09  4.708566e+07  3.272016e+09  25.665140       0      0  ...   \n",
       "2  9.944670e+06  1.062202e+07 -6.773465e+05  42.251381       0      1  ...   \n",
       "3  1.490146e+09  8.417359e+07  1.405972e+09  31.663895       0      0  ...   \n",
       "4  3.930685e+07  5.240914e+06  3.406594e+07  25.377660       0      4  ...   \n",
       "\n",
       "   fantasy  history  horror  music  mystery  romance  science_fiction  \\\n",
       "0        0        0       0      0        0        0                0   \n",
       "1        0        0       0      0        0        0                1   \n",
       "2        0        0       0      0        1        0                0   \n",
       "3        0        0       0      0        0        0                1   \n",
       "4        1        0       0      0        0        0                1   \n",
       "\n",
       "   thriller  war  western  \n",
       "0         0    1        0  \n",
       "1         0    0        0  \n",
       "2         1    0        0  \n",
       "3         0    0        0  \n",
       "4         0    0        0  \n",
       "\n",
       "[5 rows x 33 columns]"
      ]
     },
     "execution_count": 13,
     "metadata": {},
     "output_type": "execute_result"
    }
   ],
   "source": [
    "# observed DataFrame before aggregation\n",
    "actor_df.head()"
   ]
  },
  {
   "cell_type": "code",
   "execution_count": 15,
   "metadata": {},
   "outputs": [],
   "source": [
    "def aggregate_data(data):\n",
    "    \"\"\"Return aggregated DataFrame grouped by each actor\"\"\"\n",
    "    # aggregate while making counts of genres and taking the average of all other values\n",
    "    agg_actor_df = data.groupby('person_id').agg(\n",
    "        {'revenue': np.mean, 'budget': np.mean, 'age': np.mean, 'gender': 'first', \n",
    "         'order':np.mean, 'popularity':np.mean, 'release_date': np.mean, \n",
    "         'runtime': np.mean, 'usa': 'first', 'vote_average': np.mean, \n",
    "         'vote_count': np.mean, 'action': np.sum, 'adventure': np.sum, \n",
    "         'animation': np.sum, 'comedy': np.sum, 'crime': np.sum, 'drama': np.sum, \n",
    "         'family': np.sum, 'fantasy': np.sum, 'history': np.sum, 'horror': np.sum, \n",
    "         'music': np.sum, 'mystery': np.sum, 'romance': np.sum, 'science_fiction': np.sum, \n",
    "         'thriller': np.sum, 'war': np.sum, 'western': np.sum})\n",
    "    \n",
    "    return agg_actor_df"
   ]
  },
  {
   "cell_type": "code",
   "execution_count": 99,
   "metadata": {},
   "outputs": [],
   "source": [
    "def get_target_year_data(all_years_df, target_year, predictor_years_length=10):\n",
    "    \"\"\"Return data from range of previous years and target to predict on specified date\"\"\"\n",
    "    # set range of data to use for training\n",
    "    training_years_start = target_year - predictor_years_length - 1\n",
    "    training_years_end = target_year - 1\n",
    "    # extract data to build models to predict on specified target year\n",
    "    training_actor_df = all_years_df[\n",
    "        (all_years_df['release_date'] >= training_years_start) & \n",
    "        (all_years_df['release_date'] < training_years_end)]\n",
    "    # extract data for target year\n",
    "    test_actor_df = all_years_df[all_years_df['release_date'] == target_year]    \n",
    "    # aggregate date grouped by actor\n",
    "    training_df = aggregate_data(training_actor_df)\n",
    "    test_df = aggregate_data(test_actor_df)\n",
    "\n",
    "    return training_df, test_df"
   ]
  },
  {
   "cell_type": "code",
   "execution_count": 100,
   "metadata": {},
   "outputs": [],
   "source": [
    "# break off actors who worked in the 90s to predict on the year 2000\n",
    "nineties_training_df, nineties_test_df = get_target_year_data(actor_df, 2000,  30)"
   ]
  },
  {
   "cell_type": "code",
   "execution_count": 59,
   "metadata": {},
   "outputs": [],
   "source": [
    "# separate training data into features and target\n",
    "nineties_X = nineties_training_df.drop('revenue', axis=1)\n",
    "nineties_y = nineties_training_df['revenue']"
   ]
  },
  {
   "cell_type": "code",
   "execution_count": 107,
   "metadata": {},
   "outputs": [],
   "source": [
    "def get_cv_results(features, target, params={}):\n",
    "    \"\"\"Get 10 fold cross validation training and test errors\"\"\"\n",
    "    model = xgb.XGBRegressor(n_jobs=-1, **params)\n",
    "    # perform 10 fold cross validation\n",
    "    cv_results = cross_validate(model, features, target, cv=10, n_jobs=-1,\n",
    "                               scoring='neg_mean_absolute_error', return_train_score=True)\n",
    "    # get average errors\n",
    "    train_mae = np.mean(np.absolute(cv_results['train_score']))\n",
    "    test_mae = np.mean(np.absolute(cv_results['test_score']))\n",
    "\n",
    "    return train_mae, test_mae"
   ]
  },
  {
   "cell_type": "code",
   "execution_count": 110,
   "metadata": {},
   "outputs": [],
   "source": [
    "def print_cv_results(features, target, params={}):\n",
    "    \"\"\"Print CV test error & percent difference between training and test errors\"\"\"\n",
    "    train_mae, test_mae = get_cv_results(features, target, params)\n",
    "    # compute extent of overfitting (percent difference between training & test errors)\n",
    "    val_error = np.absolute(train_mae - test_mae) / test_mae    \n",
    "    print('Test Error: ${:,.2f}'.format(\n",
    "        test_mae) + '   Percent off from Training Error: {:,.2f}%'.format(val_error * 100))"
   ]
  },
  {
   "cell_type": "code",
   "execution_count": 111,
   "metadata": {},
   "outputs": [
    {
     "name": "stdout",
     "output_type": "stream",
     "text": [
      "Test Error: $68,117,166.35   Percent off from Training Error: 15.89%\n"
     ]
    }
   ],
   "source": [
    "# print test error and overfit error for nineties data with base XGB model\n",
    "print_cv_results(nineties_X, nineties_y)"
   ]
  },
  {
   "cell_type": "code",
   "execution_count": 112,
   "metadata": {},
   "outputs": [],
   "source": [
    "def test_predictor_year_range(all_years_df, target_year, max_years):\n",
    "    \"\"\"Return DataFrame with CV results over ranges of selected predictor years\"\"\"\n",
    "    # set length of largest range of predictor years\n",
    "    predictor_years_max_length = np.arange(1, max_years + 1)\n",
    "    # Create defaultdict to sort CV results\n",
    "    results_dict = defaultdict(list)\n",
    "    for num_years in predictor_years_max_length:\n",
    "        # extract data for range of years\n",
    "        training_df, test_df = get_target_year_data(all_years_df, target_year, num_years)\n",
    "        # get size of data\n",
    "        num_training_samples = training_df.shape[0]\n",
    "        num_actors_to_predict = test_df.shape[0]\n",
    "        results_dict['num_samples'].append(num_training_samples)\n",
    "        results_dict['num_targets'].append(num_actors_to_predict)        \n",
    "        # split dat into features and target\n",
    "        training_X = training_df.drop('revenue', axis=1)\n",
    "        training_y = training_df['revenue']\n",
    "        # run 10 fold cross validation and collect training and test errors\n",
    "        train_mae, test_mae = get_cv_results(training_X, training_y)\n",
    "        # compute extent of overfitting (percent difference between training & test errors)\n",
    "        val_error = np.absolute(train_mae - test_mae) / test_mae\n",
    "        # store values in defaultdict\n",
    "        results_dict['train_mae'].append(train_mae)\n",
    "        results_dict['test_mae'].append(test_mae)\n",
    "        results_dict['val_error'].append(val_error)\n",
    "    # assemble results into DataFrame\n",
    "    df = pd.DataFrame(results_dict)\n",
    "    \n",
    "    return df"
   ]
  },
  {
   "cell_type": "code",
   "execution_count": 113,
   "metadata": {},
   "outputs": [],
   "source": [
    "two_thousand_df = test_predictor_year_range(actor_df, 2000, 50)"
   ]
  },
  {
   "cell_type": "code",
   "execution_count": 116,
   "metadata": {},
   "outputs": [
    {
     "data": {
      "image/png": "[encoded data removed]",
      "text/plain": [
       "<Figure size 864x288 with 1 Axes>"
      ]
     },
     "metadata": {},
     "output_type": "display_data"
    }
   ],
   "source": [
    "sns.lineplot(data=two_thousand_df['train_mae'], color=mp.colors(2))\n",
    "sns.lineplot(data=two_thousand_df['test_mae'], color=mp.colors(0));"
   ]
  },
  {
   "cell_type": "code",
   "execution_count": 117,
   "metadata": {},
   "outputs": [
    {
     "data": {
      "image/png": "[encoded data removed]",
      "text/plain": [
       "<Figure size 864x288 with 1 Axes>"
      ]
     },
     "metadata": {},
     "output_type": "display_data"
    }
   ],
   "source": [
    "sns.lineplot(data=two_thousand_df['val_error'], color=mp.colors(1));"
   ]
  },
  {
   "cell_type": "code",
   "execution_count": 118,
   "metadata": {},
   "outputs": [
    {
     "data": {
      "image/png": "[encoded data removed]",
      "text/plain": [
       "<Figure size 864x288 with 1 Axes>"
      ]
     },
     "metadata": {},
     "output_type": "display_data"
    }
   ],
   "source": [
    "sns.lineplot(data=two_thousand_df['num_samples'], color=mp.colors(4));"
   ]
  },
  {
   "cell_type": "code",
   "execution_count": 56,
   "metadata": {},
   "outputs": [],
   "source": [
    "# separate data to predict into features and target\n",
    "two_thousand_X = nineties_test_df.drop('revenue', axis=1)\n",
    "two_thousand_y = nineties_test_df['revenue']"
   ]
  },
  {
   "cell_type": "code",
   "execution_count": null,
   "metadata": {},
   "outputs": [],
   "source": [
    "def print_cv_results(features, target, params={}):\n",
    "    \"\"\"Print CV test error & percent difference between training and test errors\"\"\"\n",
    "    train_mae, test_mae = get_cv_results(features, target, params)\n",
    "    # compute extent of overfitting (percent difference between training & test errors)\n",
    "    val_error = np.absolute(train_mae - test_mae) / test_mae\n",
    "    print('Test Error: ${:,.2f}'.format(\n",
    "        test_mae) + '   Percent off from Training Error: {:,.2f}%'.format(val_error * 100))"
   ]
  },
  {
   "cell_type": "code",
   "execution_count": 121,
   "metadata": {},
   "outputs": [],
   "source": [
    "def print_cv_mae(features, target, params={}):\n",
    "    \"\"\"Print CV average mean absolute error and mean absolute error range\"\"\"\n",
    "    model = xgb.XGBRegressor(n_jobs=-1, **params)\n",
    "    # perform 10 fold cross validation\n",
    "    cv_results = cross_val_score(model, features, target, \n",
    "                                 scoring='neg_mean_absolute_error', cv=10, n_jobs=-1)\n",
    "    results = np.absolute(cv_results)\n",
    "    # get scores range\n",
    "    results_range = (np.min(results), np.max(results))\n",
    "    # get average score\n",
    "    ave_result = np.mean(results)\n",
    "        \n",
    "    return f'Average MAE: ${ave_result:,.2f} \\\n",
    "    CV Range: (${results_range[0]:,.2f}, ${results_range[1]:,.2f})'"
   ]
  },
  {
   "cell_type": "code",
   "execution_count": 122,
   "metadata": {},
   "outputs": [
    {
     "data": {
      "text/plain": [
       "'Average MAE: $24,231,073.97     CV Range: ($16,818,074.28, $50,252,568.46)'"
      ]
     },
     "execution_count": 122,
     "metadata": {},
     "output_type": "execute_result"
    }
   ],
   "source": [
    "# predict on year two-thousand data with base model\n",
    "print_cv_mae(two_thousand_X, two_thousand_y)"
   ]
  },
  {
   "cell_type": "code",
   "execution_count": null,
   "metadata": {},
   "outputs": [],
   "source": []
  },
  {
   "cell_type": "code",
   "execution_count": 24,
   "metadata": {},
   "outputs": [],
   "source": [
    "# split dataset\n",
    "nineties_X_train, nineties_X_test, nineties_y_train, nineties_y_test = train_test_split(\n",
    "    nineties_X, nineties_y, test_size=0.2, random_state=27)"
   ]
  },
  {
   "cell_type": "code",
   "execution_count": null,
   "metadata": {},
   "outputs": [],
   "source": []
  },
  {
   "cell_type": "code",
   "execution_count": null,
   "metadata": {},
   "outputs": [],
   "source": []
  },
  {
   "cell_type": "code",
   "execution_count": null,
   "metadata": {},
   "outputs": [],
   "source": []
  },
  {
   "cell_type": "code",
   "execution_count": null,
   "metadata": {},
   "outputs": [],
   "source": []
  },
  {
   "cell_type": "code",
   "execution_count": null,
   "metadata": {},
   "outputs": [],
   "source": []
  },
  {
   "cell_type": "code",
   "execution_count": null,
   "metadata": {},
   "outputs": [],
   "source": []
  },
  {
   "cell_type": "code",
   "execution_count": null,
   "metadata": {},
   "outputs": [],
   "source": []
  },
  {
   "cell_type": "code",
   "execution_count": null,
   "metadata": {},
   "outputs": [],
   "source": []
  },
  {
   "cell_type": "code",
   "execution_count": null,
   "metadata": {},
   "outputs": [],
   "source": []
  },
  {
   "cell_type": "code",
   "execution_count": null,
   "metadata": {},
   "outputs": [],
   "source": []
  },
  {
   "cell_type": "code",
   "execution_count": null,
   "metadata": {},
   "outputs": [],
   "source": []
  },
  {
   "cell_type": "code",
   "execution_count": null,
   "metadata": {},
   "outputs": [],
   "source": []
  },
  {
   "cell_type": "code",
   "execution_count": null,
   "metadata": {},
   "outputs": [],
   "source": []
  }
 ],
 "metadata": {
  "kernelspec": {
   "display_name": "Python 3",
   "language": "python",
   "name": "python3"
  },
  "language_info": {
   "codemirror_mode": {
    "name": "ipython",
    "version": 3
   },
   "file_extension": ".py",
   "mimetype": "text/x-python",
   "name": "python",
   "nbconvert_exporter": "python",
   "pygments_lexer": "ipython3",
   "version": "3.7.9"
  }
 },
 "nbformat": 4,
 "nbformat_minor": 4
}
