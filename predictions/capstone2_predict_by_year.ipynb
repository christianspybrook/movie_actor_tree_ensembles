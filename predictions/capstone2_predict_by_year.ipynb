{
 "cells": [
  {
   "cell_type": "markdown",
   "metadata": {},
   "source": [
    "In this notebook, we get to have a little fun with trying make predictions about a particular cinematic year.<br>\n",
    "The year 2000 was chosen to test the model's accuracy at making predictions, while limiting the range of training data.<br>\n",
    "A search will be performed to find the best range of years immediately preceeding the test year to use for training.<br>\n",
    "The model will attempt to predict average revenues for actors who appeared in movies the year following the training year span, the year 2000."
   ]
  },
  {
   "cell_type": "code",
   "execution_count": 1,
   "metadata": {},
   "outputs": [],
   "source": [
    "# set cell display width\n",
    "from IPython.display import display, HTML\n",
    "display(HTML('<style>.container { width: 930px !important; }</style>'))"
   ]
  },
  {
   "cell_type": "code",
   "execution_count": 2,
   "metadata": {},
   "outputs": [],
   "source": [
    "# import ML tools\n",
    "import pandas as pd\n",
    "import numpy as np\n",
    "import xgboost as xgb\n",
    "from sklearn.model_selection import (train_test_split, KFold)\n",
    "from functools import partial\n",
    "from collections import defaultdict\n",
    "import pickle"
   ]
  },
  {
   "cell_type": "code",
   "execution_count": 3,
   "metadata": {},
   "outputs": [],
   "source": [
    "# import plotting tools\n",
    "import matplotlib.pyplot as plt\n",
    "import seaborn as sns\n",
    "from IPython.core.pylabtools import figsize\n",
    "# set grid size and style\n",
    "figsize(12, 4)\n",
    "sns.set_style('whitegrid')"
   ]
  },
  {
   "cell_type": "code",
   "execution_count": 4,
   "metadata": {},
   "outputs": [
    {
     "name": "stdout",
     "output_type": "stream",
     "text": [
      "Use \"mp.colors(<index>)\" as color attribute for Seaborn plots.\n",
      "This is your color palette...\n"
     ]
    },
    {
     "data": {
      "image/png": "[encoded data removed]",
      "text/plain": [
       "<Figure size 504x72 with 1 Axes>"
      ]
     },
     "metadata": {},
     "output_type": "display_data"
    }
   ],
   "source": [
    "# import custom palette\n",
    "import my_palette as mp"
   ]
  },
  {
   "cell_type": "code",
   "execution_count": 5,
   "metadata": {},
   "outputs": [],
   "source": [
    "# read in actor dataset\n",
    "actor_df = pd.read_json('../data/capstone2_optimized_target_ref.json')"
   ]
  },
  {
   "cell_type": "code",
   "execution_count": 6,
   "metadata": {},
   "outputs": [
    {
     "data": {
      "text/html": [
       "<div>\n",
       "<style scoped>\n",
       "    .dataframe tbody tr th:only-of-type {\n",
       "        vertical-align: middle;\n",
       "    }\n",
       "\n",
       "    .dataframe tbody tr th {\n",
       "        vertical-align: top;\n",
       "    }\n",
       "\n",
       "    .dataframe thead th {\n",
       "        text-align: right;\n",
       "    }\n",
       "</style>\n",
       "<table border=\"1\" class=\"dataframe\">\n",
       "  <thead>\n",
       "    <tr style=\"text-align: right;\">\n",
       "      <th></th>\n",
       "      <th>person_id</th>\n",
       "      <th>name</th>\n",
       "      <th>movie_id</th>\n",
       "      <th>title</th>\n",
       "      <th>revenue</th>\n",
       "      <th>budget</th>\n",
       "      <th>profit</th>\n",
       "      <th>age</th>\n",
       "      <th>gender</th>\n",
       "      <th>order</th>\n",
       "      <th>...</th>\n",
       "      <th>fantasy</th>\n",
       "      <th>history</th>\n",
       "      <th>horror</th>\n",
       "      <th>music</th>\n",
       "      <th>mystery</th>\n",
       "      <th>romance</th>\n",
       "      <th>science_fiction</th>\n",
       "      <th>thriller</th>\n",
       "      <th>war</th>\n",
       "      <th>western</th>\n",
       "    </tr>\n",
       "  </thead>\n",
       "  <tbody>\n",
       "    <tr>\n",
       "      <th>0</th>\n",
       "      <td>2</td>\n",
       "      <td>Mark Hamill</td>\n",
       "      <td>16121</td>\n",
       "      <td>The Big Red One</td>\n",
       "      <td>2.273880e+07</td>\n",
       "      <td>1.419948e+07</td>\n",
       "      <td>8.539315e+06</td>\n",
       "      <td>28.674100</td>\n",
       "      <td>0</td>\n",
       "      <td>1</td>\n",
       "      <td>...</td>\n",
       "      <td>0</td>\n",
       "      <td>0</td>\n",
       "      <td>0</td>\n",
       "      <td>0</td>\n",
       "      <td>0</td>\n",
       "      <td>0</td>\n",
       "      <td>0</td>\n",
       "      <td>0</td>\n",
       "      <td>1</td>\n",
       "      <td>0</td>\n",
       "    </tr>\n",
       "    <tr>\n",
       "      <th>2</th>\n",
       "      <td>2</td>\n",
       "      <td>Mark Hamill</td>\n",
       "      <td>14919</td>\n",
       "      <td>Batman: Mask of the Phantasm</td>\n",
       "      <td>9.944670e+06</td>\n",
       "      <td>1.062202e+07</td>\n",
       "      <td>-6.773465e+05</td>\n",
       "      <td>42.251381</td>\n",
       "      <td>0</td>\n",
       "      <td>1</td>\n",
       "      <td>...</td>\n",
       "      <td>0</td>\n",
       "      <td>0</td>\n",
       "      <td>0</td>\n",
       "      <td>0</td>\n",
       "      <td>1</td>\n",
       "      <td>0</td>\n",
       "      <td>0</td>\n",
       "      <td>1</td>\n",
       "      <td>0</td>\n",
       "      <td>0</td>\n",
       "    </tr>\n",
       "    <tr>\n",
       "      <th>4</th>\n",
       "      <td>2</td>\n",
       "      <td>Mark Hamill</td>\n",
       "      <td>16220</td>\n",
       "      <td>Wizards</td>\n",
       "      <td>3.930685e+07</td>\n",
       "      <td>5.240914e+06</td>\n",
       "      <td>3.406594e+07</td>\n",
       "      <td>25.377660</td>\n",
       "      <td>0</td>\n",
       "      <td>4</td>\n",
       "      <td>...</td>\n",
       "      <td>1</td>\n",
       "      <td>0</td>\n",
       "      <td>0</td>\n",
       "      <td>0</td>\n",
       "      <td>0</td>\n",
       "      <td>0</td>\n",
       "      <td>1</td>\n",
       "      <td>0</td>\n",
       "      <td>0</td>\n",
       "      <td>0</td>\n",
       "    </tr>\n",
       "    <tr>\n",
       "      <th>9</th>\n",
       "      <td>2</td>\n",
       "      <td>Mark Hamill</td>\n",
       "      <td>533642</td>\n",
       "      <td>Child's Play</td>\n",
       "      <td>4.524793e+07</td>\n",
       "      <td>1.007699e+07</td>\n",
       "      <td>3.517094e+07</td>\n",
       "      <td>67.733081</td>\n",
       "      <td>0</td>\n",
       "      <td>0</td>\n",
       "      <td>...</td>\n",
       "      <td>0</td>\n",
       "      <td>0</td>\n",
       "      <td>1</td>\n",
       "      <td>0</td>\n",
       "      <td>0</td>\n",
       "      <td>0</td>\n",
       "      <td>0</td>\n",
       "      <td>0</td>\n",
       "      <td>0</td>\n",
       "      <td>0</td>\n",
       "    </tr>\n",
       "    <tr>\n",
       "      <th>10</th>\n",
       "      <td>2</td>\n",
       "      <td>Mark Hamill</td>\n",
       "      <td>382322</td>\n",
       "      <td>Batman: The Killing Joke</td>\n",
       "      <td>4.049338e+06</td>\n",
       "      <td>3.754353e+06</td>\n",
       "      <td>2.949849e+05</td>\n",
       "      <td>64.830900</td>\n",
       "      <td>0</td>\n",
       "      <td>1</td>\n",
       "      <td>...</td>\n",
       "      <td>0</td>\n",
       "      <td>0</td>\n",
       "      <td>0</td>\n",
       "      <td>0</td>\n",
       "      <td>0</td>\n",
       "      <td>0</td>\n",
       "      <td>0</td>\n",
       "      <td>0</td>\n",
       "      <td>0</td>\n",
       "      <td>0</td>\n",
       "    </tr>\n",
       "  </tbody>\n",
       "</table>\n",
       "<p>5 rows × 33 columns</p>\n",
       "</div>"
      ],
      "text/plain": [
       "    person_id         name  movie_id                         title  \\\n",
       "0           2  Mark Hamill     16121               The Big Red One   \n",
       "2           2  Mark Hamill     14919  Batman: Mask of the Phantasm   \n",
       "4           2  Mark Hamill     16220                       Wizards   \n",
       "9           2  Mark Hamill    533642                  Child's Play   \n",
       "10          2  Mark Hamill    382322      Batman: The Killing Joke   \n",
       "\n",
       "         revenue        budget        profit        age  gender  order  ...  \\\n",
       "0   2.273880e+07  1.419948e+07  8.539315e+06  28.674100       0      1  ...   \n",
       "2   9.944670e+06  1.062202e+07 -6.773465e+05  42.251381       0      1  ...   \n",
       "4   3.930685e+07  5.240914e+06  3.406594e+07  25.377660       0      4  ...   \n",
       "9   4.524793e+07  1.007699e+07  3.517094e+07  67.733081       0      0  ...   \n",
       "10  4.049338e+06  3.754353e+06  2.949849e+05  64.830900       0      1  ...   \n",
       "\n",
       "    fantasy  history  horror  music  mystery  romance  science_fiction  \\\n",
       "0         0        0       0      0        0        0                0   \n",
       "2         0        0       0      0        1        0                0   \n",
       "4         1        0       0      0        0        0                1   \n",
       "9         0        0       1      0        0        0                0   \n",
       "10        0        0       0      0        0        0                0   \n",
       "\n",
       "    thriller  war  western  \n",
       "0          0    1        0  \n",
       "2          1    0        0  \n",
       "4          0    0        0  \n",
       "9          0    0        0  \n",
       "10         0    0        0  \n",
       "\n",
       "[5 rows x 33 columns]"
      ]
     },
     "execution_count": 6,
     "metadata": {},
     "output_type": "execute_result"
    }
   ],
   "source": [
    "# observed DataFrame before aggregation\n",
    "actor_df.head()"
   ]
  },
  {
   "cell_type": "markdown",
   "metadata": {},
   "source": [
    "I need to create a function to sort the observations for any prediction year and chosen training year range."
   ]
  },
  {
   "cell_type": "code",
   "execution_count": 7,
   "metadata": {},
   "outputs": [],
   "source": [
    "def get_log_revenue(data):\n",
    "    \"\"\"Returns DataFrame with log of revenue\"\"\"\n",
    "    # create copy of dataset to return\n",
    "    copy_df = data.copy()\n",
    "    # take log of dataset copy\n",
    "    copy_df['revenue'] = np.log(copy_df['revenue'])\n",
    "    \n",
    "    return copy_df"
   ]
  },
  {
   "cell_type": "code",
   "execution_count": 8,
   "metadata": {},
   "outputs": [],
   "source": [
    "def aggregate_data(data):\n",
    "    \"\"\"Return aggregated DataFrame grouped by each actor\"\"\"\n",
    "    # aggregate while making counts of genres and taking the average of all other values\n",
    "    agg_actor_df = data.groupby('person_id').agg(\n",
    "        {'revenue': np.mean, 'budget': np.mean, 'age': np.mean, 'gender': 'first', \n",
    "         'order':np.mean, 'popularity':np.mean, 'release_date': np.mean, \n",
    "         'runtime': np.mean, 'usa': 'first', 'vote_average': np.mean, \n",
    "         'vote_count': np.mean, 'action': np.sum, 'adventure': np.sum, \n",
    "         'animation': np.sum, 'comedy': np.sum, 'crime': np.sum, 'drama': np.sum, \n",
    "         'family': np.sum, 'fantasy': np.sum, 'history': np.sum, 'horror': np.sum, \n",
    "         'music': np.sum, 'mystery': np.sum, 'romance': np.sum, 'science_fiction': np.sum, \n",
    "         'thriller': np.sum, 'war': np.sum, 'western': np.sum})\n",
    "    \n",
    "    return agg_actor_df"
   ]
  },
  {
   "cell_type": "code",
   "execution_count": 9,
   "metadata": {},
   "outputs": [],
   "source": [
    "def get_target_year_data(all_years_df, target_year, predictor_years_length=10):\n",
    "    \"\"\"Return data from range of previous years and target to predict on specified date\"\"\"\n",
    "    # set range of data to use for training\n",
    "    training_years_start = target_year - predictor_years_length - 1\n",
    "    training_years_end = target_year - 1\n",
    "    # extract data to build models to predict on specified target year\n",
    "    training_actor_df = all_years_df[\n",
    "        (all_years_df['release_date'] >= training_years_start) & \n",
    "        (all_years_df['release_date'] < training_years_end)]\n",
    "    # extract data for target year\n",
    "    test_actor_df = all_years_df[all_years_df['release_date'] == target_year]    \n",
    "    # aggregate date grouped by actor\n",
    "    training_df = aggregate_data(get_log_revenue(training_actor_df))\n",
    "    test_df = aggregate_data(get_log_revenue(test_actor_df))\n",
    "\n",
    "    return training_df, test_df"
   ]
  },
  {
   "cell_type": "code",
   "execution_count": 10,
   "metadata": {},
   "outputs": [],
   "source": [
    "# break off actors who worked in the 90s to predict on the year 2000\n",
    "nineties_training_df, nineties_test_df = get_target_year_data(actor_df, 2000)"
   ]
  },
  {
   "cell_type": "markdown",
   "metadata": {},
   "source": [
    "Now that I have the data extracted by the desired years, I will separate it into feature and target DataFrames."
   ]
  },
  {
   "cell_type": "code",
   "execution_count": 11,
   "metadata": {},
   "outputs": [],
   "source": [
    "# separate training data into features and target\n",
    "nineties_X_train = nineties_training_df.drop('revenue', axis=1)\n",
    "nineties_y_train = nineties_training_df['revenue']\n",
    "nineties_X_test = nineties_test_df.drop('revenue', axis=1)\n",
    "nineties_y_test = nineties_test_df['revenue']"
   ]
  },
  {
   "cell_type": "markdown",
   "metadata": {},
   "source": [
    "Now, I will set up the cross validation machine."
   ]
  },
  {
   "cell_type": "code",
   "execution_count": 12,
   "metadata": {},
   "outputs": [],
   "source": [
    "def gradient(labels, preds, delta):\n",
    "    \"\"\"Return gradient of Pseudo-Huber loss\"\"\"\n",
    "    errors = preds - labels\n",
    "    scale = delta**2 + errors**2\n",
    "    grad = errors * np.power(scale, -0.5)\n",
    "    \n",
    "    return grad"
   ]
  },
  {
   "cell_type": "code",
   "execution_count": 13,
   "metadata": {},
   "outputs": [],
   "source": [
    "def hessian(labels, preds, delta):\n",
    "    \"\"\"Return hessian of Pseudo-Huber loss\"\"\"\n",
    "    errors = labels - preds\n",
    "    scale = delta**2 + errors**2\n",
    "    hess = delta**2 * np.power(scale, -3/2.0)\n",
    "    \n",
    "    return hess"
   ]
  },
  {
   "cell_type": "code",
   "execution_count": 14,
   "metadata": {},
   "outputs": [],
   "source": [
    "def pseudo_huber(preds, dtrain, delta):\n",
    "    \"\"\"Return gradient and hessian of Pseudo-Huber loss\"\"\"\n",
    "    labels = dtrain.get_label()\n",
    "    grad = gradient(labels, preds, delta=delta)\n",
    "    hess = hessian(labels, preds, delta=delta)\n",
    "    \n",
    "    return grad, hess"
   ]
  },
  {
   "cell_type": "code",
   "execution_count": 15,
   "metadata": {},
   "outputs": [],
   "source": [
    "def eval_error(preds, dtrain):\n",
    "    \"\"\"Return mean absolute error in dollar values\"\"\"\n",
    "    labels = dtrain.get_label()\n",
    "    # transform data from log form\n",
    "    errors = np.exp(preds) - np.exp(labels)\n",
    "    mae_dollars = np.mean(np.absolute(errors))\n",
    "    \n",
    "    return '$_mae', mae_dollars"
   ]
  },
  {
   "cell_type": "code",
   "execution_count": 16,
   "metadata": {},
   "outputs": [],
   "source": [
    "def get_xgbr_train(dtrain, dtest, params={}, \n",
    "                   max_boost_round=500, early_stopping_limit=100):\n",
    "    \"\"\"Return trained Learning API XGBoost model and training results\"\"\"\n",
    "    # instantiate empty dict to store evaluation metrics\n",
    "    results = {}\n",
    "    \n",
    "    # add operational parameters\n",
    "    params['disable_default_eval_metric'] = 1\n",
    "    params['tree_method'] = 'gpu_hist'\n",
    "    \n",
    "    # set evaluation data\n",
    "    watchlist = [(dtrain, 'train'), (dtest, 'test')]\n",
    "\n",
    "    # use partial function to enable selection of delta parameter of PseudoHuber Loss\n",
    "    train_pseudohuber = partial(pseudo_huber, delta=10)\n",
    "    \n",
    "    # instantiate regressor\n",
    "    model = xgb.train(params, dtrain, num_boost_round=max_boost_round, evals=watchlist, \n",
    "                      obj=train_pseudohuber, feval=eval_error, \n",
    "                      early_stopping_rounds=early_stopping_limit, \n",
    "                      evals_result=results, verbose_eval=False)\n",
    "            \n",
    "    return model, results"
   ]
  },
  {
   "cell_type": "code",
   "execution_count": 17,
   "metadata": {},
   "outputs": [],
   "source": [
    "def get_scratch_cv(X_train, y_train, X_test, y_test, params={}, \n",
    "                   max_boost_round=500, early_stopping_limit=100):\n",
    "    \"\"\"Return CV results with statistics from best iteration of each fold\"\"\"\n",
    "    # create default dict to hold MAE statistics from each fold\n",
    "    cv_results = defaultdict(list)\n",
    "    \n",
    "    # instantiate KFold object\n",
    "    folds = KFold(n_splits=10, random_state=27, shuffle=True)\n",
    "    \n",
    "    # split training data and run 10 folds\n",
    "    for train_index, test_index in folds.split(X_train, y_train):\n",
    "        train_features = X_train.iloc[train_index]\n",
    "        train_target = y_train.iloc[train_index]\n",
    "        test_features = X_train.iloc[test_index]\n",
    "        test_target = y_train.iloc[test_index]\n",
    "\n",
    "        # convert  training data for faster training\n",
    "        dtrain = xgb.DMatrix(data=train_features, label=train_target, nthread=-1)\n",
    "        dtest = xgb.DMatrix(data=test_features, label=test_target, nthread=-1)\n",
    "        \n",
    "        # instantiate and fit model\n",
    "        model, results = get_xgbr_train(dtrain, dtest, params, \n",
    "                                        max_boost_round, early_stopping_limit)\n",
    "        \n",
    "        # convert prediction data for faster training\n",
    "        dpred = xgb.DMatrix(data=X_test, label=y_test, nthread=-1)\n",
    "        \n",
    "        # predict on test data\n",
    "        preds = model.predict(dpred)\n",
    "        # compute errors\n",
    "        errors = np.exp(preds) - np.exp(y_test)\n",
    "        # calculate MAE for model\n",
    "        pred_mae = np.mean(np.abs(errors))        \n",
    "        \n",
    "        # get iteration with best test MAE\n",
    "        best_iter = model.best_iteration\n",
    "        # get training MAE from iteration of best test MAE\n",
    "        train_mae = results['train']['$_mae'][best_iter]\n",
    "        # get best test MAE\n",
    "        test_mae = results['test']['$_mae'][best_iter]\n",
    "        # get boosting round with best CV test MAE average\n",
    "        n_boost = best_iter + 1 \n",
    "        \n",
    "        # save fold results to default dict\n",
    "        cv_results['pred_mae'].append(pred_mae)\n",
    "        cv_results['test_mae'].append(test_mae)\n",
    "        cv_results['train_mae'].append(train_mae)\n",
    "        cv_results['n_boost'].append(n_boost)\n",
    "\n",
    "    return cv_results"
   ]
  },
  {
   "cell_type": "code",
   "execution_count": 18,
   "metadata": {},
   "outputs": [],
   "source": [
    "def make_money(number):\n",
    "    \"\"\"Return dollar formatted string\"\"\"\n",
    "    dollar = '${:,.2f}'.format(number)\n",
    "    \n",
    "    return dollar"
   ]
  },
  {
   "cell_type": "markdown",
   "metadata": {},
   "source": [
    "Here, I will load the best model found from the Bayesian search and get its hyperparameter values."
   ]
  },
  {
   "cell_type": "code",
   "execution_count": 19,
   "metadata": {},
   "outputs": [],
   "source": [
    "# load best trials object from Hyperopt informed search\n",
    "best_model = pickle.load(open(\n",
    "    '../data/xgbr_trials_optimized_target/xgbr_trials_7.pkl', 'rb'))"
   ]
  },
  {
   "cell_type": "code",
   "execution_count": 20,
   "metadata": {},
   "outputs": [],
   "source": [
    "# extract best hyperparameters fot training a boosting model\n",
    "best_params = best_model.best_trial['result']['params']"
   ]
  },
  {
   "cell_type": "markdown",
   "metadata": {},
   "source": [
    "Now, I will create a function to print the results from the cross validated prediction."
   ]
  },
  {
   "cell_type": "code",
   "execution_count": 21,
   "metadata": {},
   "outputs": [],
   "source": [
    "def print_prediction_results(X_train, y_train, X_test, y_test, params={}, \n",
    "                             max_boost_round=500, early_stopping_limit=100):\n",
    "    \"\"\"Train model and print prediction error\"\"\"\n",
    "    # get cross validation results\n",
    "    test_results = get_scratch_cv(X_train, y_train, X_test, y_test, params=params, \n",
    "                                  max_boost_round=max_boost_round, \n",
    "                                  early_stopping_limit=early_stopping_limit)\n",
    "    \n",
    "    # get overall average prediction MAE of the 10 folds\n",
    "    pred_mean = np.mean(test_results['pred_mae'])\n",
    "    # get overall average test MAE of the 10 folds\n",
    "    test_mean = np.mean(test_results['test_mae'])\n",
    "    # get average number of boosting rounds\n",
    "    n_boost = np.mean(test_results['n_boost'])\n",
    "    \n",
    "    print('Prediction MAE: {}\\nCV Test MAE: {}\\nBoost Rounds: {}\\n'.format(\n",
    "        make_money(pred_mean), make_money(test_mean), int(np.round(n_boost))))"
   ]
  },
  {
   "cell_type": "markdown",
   "metadata": {},
   "source": [
    "Now, I will get the prediction results for a boosted model, which uses the default hyperparameter values."
   ]
  },
  {
   "cell_type": "code",
   "execution_count": 22,
   "metadata": {},
   "outputs": [
    {
     "name": "stdout",
     "output_type": "stream",
     "text": [
      "Prediction MAE: $60,154,193.13\n",
      "CV Test MAE: $38,228,820.40\n",
      "Boost Rounds: 331\n",
      "\n"
     ]
    }
   ],
   "source": [
    "# get validation results on base model, using training data from previous 10 years\n",
    "print_prediction_results(nineties_X_train, nineties_y_train, \n",
    "                         nineties_X_test, nineties_y_test)"
   ]
  },
  {
   "cell_type": "markdown",
   "metadata": {},
   "source": [
    "Then, this result can be compared with the best tuned model."
   ]
  },
  {
   "cell_type": "code",
   "execution_count": 23,
   "metadata": {},
   "outputs": [
    {
     "name": "stdout",
     "output_type": "stream",
     "text": [
      "Prediction MAE: $56,652,306.89\n",
      "CV Test MAE: $34,265,449.60\n",
      "Boost Rounds: 726\n",
      "\n"
     ]
    }
   ],
   "source": [
    "# get validation results on best tuned model, using training data from previous 10 years\n",
    "print_prediction_results(nineties_X_train, nineties_y_train, \n",
    "                         nineties_X_test, nineties_y_test, best_params, \n",
    "                         max_boost_round=1000, early_stopping_limit=200)"
   ]
  },
  {
   "cell_type": "markdown",
   "metadata": {},
   "source": [
    "The cross validated test score is fairly close to what was observed, when performance was measure against the full dataset.<br>\n",
    "The prediction error is significantly larger than what was obtained from the holdout set of the training data.<br>\n",
    "The models did not use the full range of boosting rounds that they were allowed."
   ]
  },
  {
   "cell_type": "markdown",
   "metadata": {},
   "source": [
    "Finally, I would like to optimize the range selected for the training data years.<br>\n",
    "I will create a function that takes a target year, a number of previous years to pull training data, and hyperparameters for a boosted model."
   ]
  },
  {
   "cell_type": "code",
   "execution_count": 24,
   "metadata": {},
   "outputs": [],
   "source": [
    "def test_predictor_year_range(all_years_df, target_year, max_years, params={}, \n",
    "                              max_boost_round=500, early_stopping_limit=100):\n",
    "    \"\"\"Return DataFrame with CV results over ranges of selected training years\"\"\"\n",
    "    # set length of largest range of predictor years\n",
    "    predictor_years_max_length = np.arange(1, max_years + 1)\n",
    "    # create defaultdict to sort CV results\n",
    "    results_dict = defaultdict(list)\n",
    "    for num_years in predictor_years_max_length:\n",
    "        # store number of years used for training data\n",
    "        results_dict['num_years'].append(num_years)\n",
    "        # extract data for range of years\n",
    "        training_df, test_df = get_target_year_data(all_years_df, target_year, num_years)\n",
    "        # get size of data\n",
    "        num_training_samples = training_df.shape[0]\n",
    "        num_actors_to_predict = test_df.shape[0]\n",
    "        results_dict['num_samples'].append(num_training_samples)\n",
    "        results_dict['num_targets'].append(num_actors_to_predict)        \n",
    "        # split data into features and target\n",
    "        training_X = training_df.drop('revenue', axis=1)\n",
    "        training_y = training_df['revenue']\n",
    "        test_X = test_df.drop('revenue', axis=1)\n",
    "        test_y = test_df['revenue']\n",
    "        # run 10 fold cross validation and collect results\n",
    "        test_results = get_scratch_cv(training_X, training_y, \n",
    "                                      test_X, test_y, \n",
    "                                      params=params, \n",
    "                                      max_boost_round=max_boost_round, \n",
    "                                      early_stopping_limit=early_stopping_limit)\n",
    "        # get overall average prediction MAE of the 10 folds\n",
    "        pred_mean = np.mean(test_results['pred_mae'])\n",
    "        # get overall average test MAE of the 10 folds\n",
    "        test_mean = np.mean(test_results['test_mae'])\n",
    "        # get overall average training MAE of the 10 folds\n",
    "        train_mean = np.mean(test_results['train_mae'])\n",
    "        # get average number of boosting rounds\n",
    "        n_boost = np.mean(test_results['n_boost'])\n",
    "        # store values in defaultdict\n",
    "        results_dict['pred_mae'].append(pred_mean)\n",
    "        results_dict['test_mae'].append(test_mean)\n",
    "        results_dict['train_mae'].append(train_mean)\n",
    "        results_dict['n_boost'].append(n_boost)\n",
    "    # assemble results into DataFrame\n",
    "    df = pd.DataFrame(results_dict)\n",
    "    \n",
    "    return df"
   ]
  },
  {
   "cell_type": "code",
   "execution_count": 25,
   "metadata": {},
   "outputs": [
    {
     "data": {
      "text/html": [
       "<div>\n",
       "<style scoped>\n",
       "    .dataframe tbody tr th:only-of-type {\n",
       "        vertical-align: middle;\n",
       "    }\n",
       "\n",
       "    .dataframe tbody tr th {\n",
       "        vertical-align: top;\n",
       "    }\n",
       "\n",
       "    .dataframe thead th {\n",
       "        text-align: right;\n",
       "    }\n",
       "</style>\n",
       "<table border=\"1\" class=\"dataframe\">\n",
       "  <thead>\n",
       "    <tr style=\"text-align: right;\">\n",
       "      <th></th>\n",
       "      <th>num_years</th>\n",
       "      <th>num_samples</th>\n",
       "      <th>num_targets</th>\n",
       "      <th>pred_mae</th>\n",
       "      <th>test_mae</th>\n",
       "      <th>train_mae</th>\n",
       "      <th>n_boost</th>\n",
       "    </tr>\n",
       "  </thead>\n",
       "  <tbody>\n",
       "    <tr>\n",
       "      <th>0</th>\n",
       "      <td>1</td>\n",
       "      <td>738</td>\n",
       "      <td>831</td>\n",
       "      <td>6.026746e+07</td>\n",
       "      <td>11725360.2</td>\n",
       "      <td>1.005331e+06</td>\n",
       "      <td>861.0</td>\n",
       "    </tr>\n",
       "    <tr>\n",
       "      <th>1</th>\n",
       "      <td>2</td>\n",
       "      <td>1243</td>\n",
       "      <td>831</td>\n",
       "      <td>5.730004e+07</td>\n",
       "      <td>18303581.9</td>\n",
       "      <td>1.220185e+06</td>\n",
       "      <td>791.0</td>\n",
       "    </tr>\n",
       "    <tr>\n",
       "      <th>2</th>\n",
       "      <td>3</td>\n",
       "      <td>1632</td>\n",
       "      <td>831</td>\n",
       "      <td>5.769411e+07</td>\n",
       "      <td>23153824.0</td>\n",
       "      <td>1.615091e+06</td>\n",
       "      <td>778.2</td>\n",
       "    </tr>\n",
       "    <tr>\n",
       "      <th>3</th>\n",
       "      <td>4</td>\n",
       "      <td>1938</td>\n",
       "      <td>831</td>\n",
       "      <td>5.966273e+07</td>\n",
       "      <td>29514852.4</td>\n",
       "      <td>1.168555e+06</td>\n",
       "      <td>855.7</td>\n",
       "    </tr>\n",
       "    <tr>\n",
       "      <th>4</th>\n",
       "      <td>5</td>\n",
       "      <td>2170</td>\n",
       "      <td>831</td>\n",
       "      <td>5.537117e+07</td>\n",
       "      <td>32250702.2</td>\n",
       "      <td>2.096400e+06</td>\n",
       "      <td>781.8</td>\n",
       "    </tr>\n",
       "    <tr>\n",
       "      <th>5</th>\n",
       "      <td>6</td>\n",
       "      <td>2433</td>\n",
       "      <td>831</td>\n",
       "      <td>5.447059e+07</td>\n",
       "      <td>32211892.6</td>\n",
       "      <td>1.615941e+06</td>\n",
       "      <td>863.7</td>\n",
       "    </tr>\n",
       "    <tr>\n",
       "      <th>6</th>\n",
       "      <td>7</td>\n",
       "      <td>2630</td>\n",
       "      <td>831</td>\n",
       "      <td>5.703792e+07</td>\n",
       "      <td>34047845.2</td>\n",
       "      <td>2.321045e+06</td>\n",
       "      <td>767.1</td>\n",
       "    </tr>\n",
       "    <tr>\n",
       "      <th>7</th>\n",
       "      <td>8</td>\n",
       "      <td>2809</td>\n",
       "      <td>831</td>\n",
       "      <td>5.508957e+07</td>\n",
       "      <td>33078434.8</td>\n",
       "      <td>3.458996e+06</td>\n",
       "      <td>599.4</td>\n",
       "    </tr>\n",
       "    <tr>\n",
       "      <th>8</th>\n",
       "      <td>9</td>\n",
       "      <td>2964</td>\n",
       "      <td>831</td>\n",
       "      <td>5.880625e+07</td>\n",
       "      <td>33826726.2</td>\n",
       "      <td>2.867851e+06</td>\n",
       "      <td>757.9</td>\n",
       "    </tr>\n",
       "    <tr>\n",
       "      <th>9</th>\n",
       "      <td>10</td>\n",
       "      <td>3136</td>\n",
       "      <td>831</td>\n",
       "      <td>5.665231e+07</td>\n",
       "      <td>34265449.6</td>\n",
       "      <td>2.487281e+06</td>\n",
       "      <td>726.1</td>\n",
       "    </tr>\n",
       "    <tr>\n",
       "      <th>10</th>\n",
       "      <td>11</td>\n",
       "      <td>3331</td>\n",
       "      <td>831</td>\n",
       "      <td>5.796823e+07</td>\n",
       "      <td>32979657.8</td>\n",
       "      <td>2.462362e+06</td>\n",
       "      <td>687.9</td>\n",
       "    </tr>\n",
       "    <tr>\n",
       "      <th>11</th>\n",
       "      <td>12</td>\n",
       "      <td>3493</td>\n",
       "      <td>831</td>\n",
       "      <td>5.935648e+07</td>\n",
       "      <td>32562334.2</td>\n",
       "      <td>2.556994e+06</td>\n",
       "      <td>691.1</td>\n",
       "    </tr>\n",
       "    <tr>\n",
       "      <th>12</th>\n",
       "      <td>13</td>\n",
       "      <td>3638</td>\n",
       "      <td>831</td>\n",
       "      <td>5.922937e+07</td>\n",
       "      <td>32897069.0</td>\n",
       "      <td>2.762349e+06</td>\n",
       "      <td>651.7</td>\n",
       "    </tr>\n",
       "    <tr>\n",
       "      <th>13</th>\n",
       "      <td>14</td>\n",
       "      <td>3759</td>\n",
       "      <td>831</td>\n",
       "      <td>5.961778e+07</td>\n",
       "      <td>33746149.6</td>\n",
       "      <td>3.545296e+06</td>\n",
       "      <td>685.7</td>\n",
       "    </tr>\n",
       "    <tr>\n",
       "      <th>14</th>\n",
       "      <td>15</td>\n",
       "      <td>3883</td>\n",
       "      <td>831</td>\n",
       "      <td>6.104641e+07</td>\n",
       "      <td>32616306.6</td>\n",
       "      <td>3.108899e+06</td>\n",
       "      <td>656.4</td>\n",
       "    </tr>\n",
       "    <tr>\n",
       "      <th>15</th>\n",
       "      <td>16</td>\n",
       "      <td>3979</td>\n",
       "      <td>831</td>\n",
       "      <td>6.062752e+07</td>\n",
       "      <td>32777219.8</td>\n",
       "      <td>2.554659e+06</td>\n",
       "      <td>729.7</td>\n",
       "    </tr>\n",
       "    <tr>\n",
       "      <th>16</th>\n",
       "      <td>17</td>\n",
       "      <td>4071</td>\n",
       "      <td>831</td>\n",
       "      <td>5.848610e+07</td>\n",
       "      <td>32318264.8</td>\n",
       "      <td>2.280369e+06</td>\n",
       "      <td>714.4</td>\n",
       "    </tr>\n",
       "    <tr>\n",
       "      <th>17</th>\n",
       "      <td>18</td>\n",
       "      <td>4193</td>\n",
       "      <td>831</td>\n",
       "      <td>5.906241e+07</td>\n",
       "      <td>31386343.2</td>\n",
       "      <td>1.462529e+06</td>\n",
       "      <td>854.1</td>\n",
       "    </tr>\n",
       "    <tr>\n",
       "      <th>18</th>\n",
       "      <td>19</td>\n",
       "      <td>4270</td>\n",
       "      <td>831</td>\n",
       "      <td>6.024396e+07</td>\n",
       "      <td>32575746.6</td>\n",
       "      <td>3.675913e+06</td>\n",
       "      <td>749.8</td>\n",
       "    </tr>\n",
       "    <tr>\n",
       "      <th>19</th>\n",
       "      <td>20</td>\n",
       "      <td>4311</td>\n",
       "      <td>831</td>\n",
       "      <td>6.020041e+07</td>\n",
       "      <td>31803755.2</td>\n",
       "      <td>2.166950e+06</td>\n",
       "      <td>704.4</td>\n",
       "    </tr>\n",
       "  </tbody>\n",
       "</table>\n",
       "</div>"
      ],
      "text/plain": [
       "    num_years  num_samples  num_targets      pred_mae    test_mae  \\\n",
       "0           1          738          831  6.026746e+07  11725360.2   \n",
       "1           2         1243          831  5.730004e+07  18303581.9   \n",
       "2           3         1632          831  5.769411e+07  23153824.0   \n",
       "3           4         1938          831  5.966273e+07  29514852.4   \n",
       "4           5         2170          831  5.537117e+07  32250702.2   \n",
       "5           6         2433          831  5.447059e+07  32211892.6   \n",
       "6           7         2630          831  5.703792e+07  34047845.2   \n",
       "7           8         2809          831  5.508957e+07  33078434.8   \n",
       "8           9         2964          831  5.880625e+07  33826726.2   \n",
       "9          10         3136          831  5.665231e+07  34265449.6   \n",
       "10         11         3331          831  5.796823e+07  32979657.8   \n",
       "11         12         3493          831  5.935648e+07  32562334.2   \n",
       "12         13         3638          831  5.922937e+07  32897069.0   \n",
       "13         14         3759          831  5.961778e+07  33746149.6   \n",
       "14         15         3883          831  6.104641e+07  32616306.6   \n",
       "15         16         3979          831  6.062752e+07  32777219.8   \n",
       "16         17         4071          831  5.848610e+07  32318264.8   \n",
       "17         18         4193          831  5.906241e+07  31386343.2   \n",
       "18         19         4270          831  6.024396e+07  32575746.6   \n",
       "19         20         4311          831  6.020041e+07  31803755.2   \n",
       "\n",
       "       train_mae  n_boost  \n",
       "0   1.005331e+06    861.0  \n",
       "1   1.220185e+06    791.0  \n",
       "2   1.615091e+06    778.2  \n",
       "3   1.168555e+06    855.7  \n",
       "4   2.096400e+06    781.8  \n",
       "5   1.615941e+06    863.7  \n",
       "6   2.321045e+06    767.1  \n",
       "7   3.458996e+06    599.4  \n",
       "8   2.867851e+06    757.9  \n",
       "9   2.487281e+06    726.1  \n",
       "10  2.462362e+06    687.9  \n",
       "11  2.556994e+06    691.1  \n",
       "12  2.762349e+06    651.7  \n",
       "13  3.545296e+06    685.7  \n",
       "14  3.108899e+06    656.4  \n",
       "15  2.554659e+06    729.7  \n",
       "16  2.280369e+06    714.4  \n",
       "17  1.462529e+06    854.1  \n",
       "18  3.675913e+06    749.8  \n",
       "19  2.166950e+06    704.4  "
      ]
     },
     "execution_count": 25,
     "metadata": {},
     "output_type": "execute_result"
    }
   ],
   "source": [
    "# get results DataFrame for training year ranges from one to 20 years each\n",
    "two_thousand_df = test_predictor_year_range(actor_df, 2000, 20, \n",
    "                                            params=best_params, \n",
    "                                            max_boost_round=1000, \n",
    "                                            early_stopping_limit=200)\n",
    "two_thousand_df"
   ]
  },
  {
   "cell_type": "markdown",
   "metadata": {},
   "source": [
    "The training scores are in line with what was observed in the best hyperparameter search model.<br>\n",
    "The best span, at 6 years, is split nearly 25:75, test to training."
   ]
  },
  {
   "cell_type": "code",
   "execution_count": 26,
   "metadata": {},
   "outputs": [
    {
     "data": {
      "image/png": "[encoded data removed]",
      "text/plain": [
       "<Figure size 864x288 with 1 Axes>"
      ]
     },
     "metadata": {},
     "output_type": "display_data"
    }
   ],
   "source": [
    "# plot training sample size for training year range from one to twenty years\n",
    "\n",
    "sns.lineplot(x=two_thousand_df['num_years'], y=two_thousand_df['num_samples'], \n",
    "             color=mp.colors(4))\n",
    "\n",
    "plt.xlabel('Number of Training Years', fontsize=15)\n",
    "plt.ylabel('Sample Size', fontsize=15)\n",
    "\n",
    "plt.title('Span of Training Data vs.Training Sample Size', fontsize=15, y=1.05);"
   ]
  },
  {
   "cell_type": "markdown",
   "metadata": {},
   "source": [
    "The number of training samples increases nearly monotonically throughout the range of training year spans."
   ]
  },
  {
   "cell_type": "code",
   "execution_count": 27,
   "metadata": {},
   "outputs": [
    {
     "data": {
      "image/png": "[encoded data removed]",
      "text/plain": [
       "<Figure size 864x288 with 1 Axes>"
      ]
     },
     "metadata": {},
     "output_type": "display_data"
    }
   ],
   "source": [
    "# plot 10 fold CV prediction MAE for training year range from one to twenty years\n",
    "\n",
    "sns.lineplot(x=two_thousand_df['num_years'], y=two_thousand_df['pred_mae'], \n",
    "             label='Year 2000 Predictions', color=mp.colors(1))\n",
    "\n",
    "plt.xlabel('Number of Training Years', fontsize=15)\n",
    "plt.ylabel('MAE', fontsize=15)\n",
    "\n",
    "plt.legend(loc=4)\n",
    "plt.title('Span of Training Data vs.Prediction Error', fontsize=15, y=1.05);"
   ]
  },
  {
   "cell_type": "markdown",
   "metadata": {},
   "source": [
    "The optimal number of training years to use is 6."
   ]
  },
  {
   "cell_type": "markdown",
   "metadata": {},
   "source": [
    "Finally, I will use this information to extract and split the data, accordingly."
   ]
  },
  {
   "cell_type": "code",
   "execution_count": 28,
   "metadata": {},
   "outputs": [],
   "source": [
    "# break off actors who worked in the year 2000 and the previous 6 years to predict on the year 2000\n",
    "best_training_df, best_test_df = get_target_year_data(actor_df, 2000, 6)"
   ]
  },
  {
   "cell_type": "code",
   "execution_count": 29,
   "metadata": {},
   "outputs": [],
   "source": [
    "# separate training data into features and target\n",
    "best_X_train = best_training_df.drop('revenue', axis=1)\n",
    "best_y_train = best_training_df['revenue']\n",
    "best_X_test = best_test_df.drop('revenue', axis=1)\n",
    "best_y_test = best_test_df['revenue']"
   ]
  },
  {
   "cell_type": "markdown",
   "metadata": {},
   "source": [
    "Now, I can get the best prediction error that the tuned and optimized model can make on actors from the year 2000."
   ]
  },
  {
   "cell_type": "code",
   "execution_count": 30,
   "metadata": {},
   "outputs": [
    {
     "name": "stdout",
     "output_type": "stream",
     "text": [
      "Prediction MAE: $54,470,586.98\n",
      "CV Test MAE: $32,211,892.60\n",
      "Boost Rounds: 864\n",
      "\n"
     ]
    }
   ],
   "source": [
    "# get validation results on best tuned model for the year 2000, using training data from previous 6 years\n",
    "print_prediction_results(best_X_train, best_y_train, \n",
    "                         best_X_test, best_y_test, best_params, \n",
    "                         max_boost_round=1000, early_stopping_limit=200)"
   ]
  },
  {
   "cell_type": "markdown",
   "metadata": {},
   "source": [
    "Given the reduced sample sizes used for the training and test data, the result is satisfactory."
   ]
  },
  {
   "cell_type": "code",
   "execution_count": null,
   "metadata": {},
   "outputs": [],
   "source": []
  }
 ],
 "metadata": {
  "kernelspec": {
   "display_name": "Python 3",
   "language": "python",
   "name": "python3"
  },
  "language_info": {
   "codemirror_mode": {
    "name": "ipython",
    "version": 3
   },
   "file_extension": ".py",
   "mimetype": "text/x-python",
   "name": "python",
   "nbconvert_exporter": "python",
   "pygments_lexer": "ipython3",
   "version": "3.7.9"
  }
 },
 "nbformat": 4,
 "nbformat_minor": 4
}
