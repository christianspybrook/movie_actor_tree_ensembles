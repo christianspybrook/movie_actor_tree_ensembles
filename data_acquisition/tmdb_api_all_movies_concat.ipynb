{
 "cells": [
  {
   "cell_type": "code",
   "execution_count": null,
   "metadata": {},
   "outputs": [],
   "source": [
    "raise SystemExit(\"Stop right there!\")"
   ]
  },
  {
   "cell_type": "code",
   "execution_count": 1,
   "metadata": {},
   "outputs": [],
   "source": [
    "import pandas as pd\n",
    "import json"
   ]
  },
  {
   "cell_type": "code",
   "execution_count": 2,
   "metadata": {},
   "outputs": [
    {
     "name": "stdout",
     "output_type": "stream",
     "text": [
      "<class 'pandas.core.frame.DataFrame'>\n",
      "RangeIndex: 800000 entries, 0 to 799999\n",
      "Data columns (total 27 columns):\n",
      " #   Column                 Non-Null Count   Dtype  \n",
      "---  ------                 --------------   -----  \n",
      " 0   adult                  545815 non-null  float64\n",
      " 1   backdrop_path          107987 non-null  object \n",
      " 2   belongs_to_collection  13666 non-null   object \n",
      " 3   budget                 545815 non-null  float64\n",
      " 4   genres                 545815 non-null  object \n",
      " 5   homepage               337756 non-null  object \n",
      " 6   id                     545815 non-null  float64\n",
      " 7   imdb_id                423291 non-null  object \n",
      " 8   original_language      545815 non-null  object \n",
      " 9   original_title         545815 non-null  object \n",
      " 10  overview               545815 non-null  object \n",
      " 11  popularity             545815 non-null  float64\n",
      " 12  poster_path            299801 non-null  object \n",
      " 13  production_companies   545815 non-null  object \n",
      " 14  production_countries   545815 non-null  object \n",
      " 15  release_date           545815 non-null  object \n",
      " 16  revenue                545815 non-null  float64\n",
      " 17  runtime                468328 non-null  float64\n",
      " 18  spoken_languages       545815 non-null  object \n",
      " 19  status                 545815 non-null  object \n",
      " 20  tagline                545815 non-null  object \n",
      " 21  title                  545815 non-null  object \n",
      " 22  video                  545815 non-null  float64\n",
      " 23  vote_average           545815 non-null  float64\n",
      " 24  vote_count             545815 non-null  float64\n",
      " 25  credits                545815 non-null  object \n",
      " 26  reviews                545814 non-null  object \n",
      "dtypes: float64(9), object(18)\n",
      "memory usage: 164.8+ MB\n"
     ]
    }
   ],
   "source": [
    "# read in uncleaned JSON's as DataFrame\n",
    "df_lst = []\n",
    "for num in range(1, 9):\n",
    "    filename = 'tmdb_movies_%s00k.json'%num\n",
    "    each_file_df = pd.read_json(filename)\n",
    "    df_lst.append(each_file_df)\n",
    "df = pd.concat(df_lst, ignore_index=True)\n",
    "df.info()"
   ]
  },
  {
   "cell_type": "code",
   "execution_count": 3,
   "metadata": {},
   "outputs": [],
   "source": [
    "# store concatenated data in JSON\n",
    "#df.to_json('tmdb_movie_all_unclean.json')"
   ]
  },
  {
   "cell_type": "code",
   "execution_count": null,
   "metadata": {},
   "outputs": [],
   "source": []
  }
 ],
 "metadata": {
  "kernelspec": {
   "display_name": "Python 3",
   "language": "python",
   "name": "python3"
  },
  "language_info": {
   "codemirror_mode": {
    "name": "ipython",
    "version": 3
   },
   "file_extension": ".py",
   "mimetype": "text/x-python",
   "name": "python",
   "nbconvert_exporter": "python",
   "pygments_lexer": "ipython3",
   "version": "3.7.7"
  }
 },
 "nbformat": 4,
 "nbformat_minor": 4
}
