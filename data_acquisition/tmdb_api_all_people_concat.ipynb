{
 "cells": [
  {
   "cell_type": "code",
   "execution_count": null,
   "metadata": {},
   "outputs": [],
   "source": [
    "raise SystemExit(\"Stop right there!\")"
   ]
  },
  {
   "cell_type": "code",
   "execution_count": 1,
   "metadata": {},
   "outputs": [],
   "source": [
    "import pandas as pd\n",
    "import json"
   ]
  },
  {
   "cell_type": "code",
   "execution_count": 26,
   "metadata": {},
   "outputs": [
    {
     "name": "stdout",
     "output_type": "stream",
     "text": [
      "<class 'pandas.core.frame.DataFrame'>\n",
      "RangeIndex: 2700000 entries, 0 to 2699999\n",
      "Data columns (total 14 columns):\n",
      " #   Column                Dtype  \n",
      "---  ------                -----  \n",
      " 0   birthday              object \n",
      " 1   known_for_department  object \n",
      " 2   deathday              object \n",
      " 3   id                    float64\n",
      " 4   name                  object \n",
      " 5   also_known_as         object \n",
      " 6   gender                float64\n",
      " 7   biography             object \n",
      " 8   popularity            float64\n",
      " 9   place_of_birth        object \n",
      " 10  profile_path          object \n",
      " 11  adult                 float64\n",
      " 12  imdb_id               object \n",
      " 13  homepage              object \n",
      "dtypes: float64(4), object(10)\n",
      "memory usage: 288.4+ MB\n"
     ]
    }
   ],
   "source": [
    "# read in cleaned JSON's as DataFrame\n",
    "df_lst = []\n",
    "for num in range(1, 28):\n",
    "    filename = 'tmdb_person_%s00k.json'%num\n",
    "    each_file_df = pd.read_json(filename)\n",
    "    df_lst.append(each_file_df)\n",
    "df = pd.concat(df_lst, ignore_index=True)\n",
    "df.info()"
   ]
  },
  {
   "cell_type": "code",
   "execution_count": 31,
   "metadata": {},
   "outputs": [],
   "source": [
    "# store concatenated data in JSON\n",
    "#df.to_json('tmdb_person_all_unclean.json')"
   ]
  },
  {
   "cell_type": "code",
   "execution_count": null,
   "metadata": {},
   "outputs": [],
   "source": []
  }
 ],
 "metadata": {
  "kernelspec": {
   "display_name": "Python 3",
   "language": "python",
   "name": "python3"
  },
  "language_info": {
   "codemirror_mode": {
    "name": "ipython",
    "version": 3
   },
   "file_extension": ".py",
   "mimetype": "text/x-python",
   "name": "python",
   "nbconvert_exporter": "python",
   "pygments_lexer": "ipython3",
   "version": "3.7.7"
  }
 },
 "nbformat": 4,
 "nbformat_minor": 4
}
